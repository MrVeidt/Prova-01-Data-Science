{
  "nbformat": 4,
  "nbformat_minor": 0,
  "metadata": {
    "colab": {
      "name": "Prova1",
      "provenance": [],
      "collapsed_sections": [],
      "mount_file_id": "1z2CB7lfM3uIrNculiwqCaSjOFBC9H798",
      "authorship_tag": "ABX9TyPutq1A/c+s+jN1h7jWcqKf",
      "include_colab_link": true
    },
    "kernelspec": {
      "name": "python3",
      "display_name": "Python 3"
    },
    "language_info": {
      "name": "python"
    }
  },
  "cells": [
    {
      "cell_type": "markdown",
      "metadata": {
        "id": "view-in-github",
        "colab_type": "text"
      },
      "source": [
        "<a href=\"https://colab.research.google.com/github/MrVeidt/Prova-01-Data-Science/blob/main/Prova1.ipynb\" target=\"_parent\"><img src=\"https://colab.research.google.com/assets/colab-badge.svg\" alt=\"Open In Colab\"/></a>"
      ]
    },
    {
      "cell_type": "code",
      "source": [
        "from google.colab import drive\n",
        "drive.mount('/content/drive')"
      ],
      "metadata": {
        "id": "3BHn8VrRmVDy",
        "colab": {
          "base_uri": "https://localhost:8080/"
        },
        "outputId": "720bc90b-2b62-4215-c650-573751aa1b11"
      },
      "execution_count": 2,
      "outputs": [
        {
          "output_type": "stream",
          "name": "stdout",
          "text": [
            "Drive already mounted at /content/drive; to attempt to forcibly remount, call drive.mount(\"/content/drive\", force_remount=True).\n"
          ]
        }
      ]
    },
    {
      "cell_type": "code",
      "source": [
        "import numpy as np \n",
        "import pandas as pd\n",
        "from datetime import datetime\n",
        "import matplotlib.pyplot as plt \n",
        "import seaborn as sns "
      ],
      "metadata": {
        "id": "XlOknNidojzd"
      },
      "execution_count": 1,
      "outputs": []
    },
    {
      "cell_type": "markdown",
      "source": [
        ""
      ],
      "metadata": {
        "id": "Xz95Eo-641O1"
      }
    },
    {
      "cell_type": "code",
      "source": [
        "paiseslatam = ['Brazil', 'Colombia', 'Argentina', 'Peru', 'Chile', 'Ecuador', 'Bolivia', 'Paraguay', 'Uruguay', 'Suriname']\n",
        "paisesasia = ['Afghanistan', 'Armenia', 'China', 'India', 'Vietnam', 'Bangladesh', 'Japan', 'Lebanon', 'Turkey']\n",
        "paiseseuropa = ['United Kingdom', 'France', 'Spain', 'Netherlands', 'Belgium', 'Portugal', 'Ireland', 'Luxembourg', 'Andorra', 'Monaco']\n",
        "paisesnorteamerica = ['Canada', 'Cuba', 'Honduras', 'Mexico', 'United States', 'Jamaica', 'Costa Rica', 'Barbados', 'Guatemala', 'Dominican Republic']"
      ],
      "metadata": {
        "id": "seP9Q500DfLr"
      },
      "execution_count": 2,
      "outputs": []
    },
    {
      "cell_type": "code",
      "source": [
        "df = pd.read_csv('/content/drive/MyDrive/Colab Notebooks/Cópia de Indicators.csv')\n",
        "\n",
        "df.head()"
      ],
      "metadata": {
        "colab": {
          "base_uri": "https://localhost:8080/",
          "height": 206
        },
        "id": "D5_C-MU2_NeL",
        "outputId": "26be7410-e6ad-4190-b130-74df27a44d06"
      },
      "execution_count": 3,
      "outputs": [
        {
          "output_type": "execute_result",
          "data": {
            "text/plain": [
              "  CountryName CountryCode                                      IndicatorName  \\\n",
              "0  Arab World         ARB  Adolescent fertility rate (births per 1,000 wo...   \n",
              "1  Arab World         ARB  Age dependency ratio (% of working-age populat...   \n",
              "2  Arab World         ARB  Age dependency ratio, old (% of working-age po...   \n",
              "3  Arab World         ARB  Age dependency ratio, young (% of working-age ...   \n",
              "4  Arab World         ARB        Arms exports (SIPRI trend indicator values)   \n",
              "\n",
              "    IndicatorCode  Year         Value  \n",
              "0     SP.ADO.TFRT  1960  1.335609e+02  \n",
              "1     SP.POP.DPND  1960  8.779760e+01  \n",
              "2  SP.POP.DPND.OL  1960  6.634579e+00  \n",
              "3  SP.POP.DPND.YG  1960  8.102333e+01  \n",
              "4  MS.MIL.XPRT.KD  1960  3.000000e+06  "
            ],
            "text/html": [
              "\n",
              "  <div id=\"df-fd5c8b75-f773-4956-aed1-c873315cf689\">\n",
              "    <div class=\"colab-df-container\">\n",
              "      <div>\n",
              "<style scoped>\n",
              "    .dataframe tbody tr th:only-of-type {\n",
              "        vertical-align: middle;\n",
              "    }\n",
              "\n",
              "    .dataframe tbody tr th {\n",
              "        vertical-align: top;\n",
              "    }\n",
              "\n",
              "    .dataframe thead th {\n",
              "        text-align: right;\n",
              "    }\n",
              "</style>\n",
              "<table border=\"1\" class=\"dataframe\">\n",
              "  <thead>\n",
              "    <tr style=\"text-align: right;\">\n",
              "      <th></th>\n",
              "      <th>CountryName</th>\n",
              "      <th>CountryCode</th>\n",
              "      <th>IndicatorName</th>\n",
              "      <th>IndicatorCode</th>\n",
              "      <th>Year</th>\n",
              "      <th>Value</th>\n",
              "    </tr>\n",
              "  </thead>\n",
              "  <tbody>\n",
              "    <tr>\n",
              "      <th>0</th>\n",
              "      <td>Arab World</td>\n",
              "      <td>ARB</td>\n",
              "      <td>Adolescent fertility rate (births per 1,000 wo...</td>\n",
              "      <td>SP.ADO.TFRT</td>\n",
              "      <td>1960</td>\n",
              "      <td>1.335609e+02</td>\n",
              "    </tr>\n",
              "    <tr>\n",
              "      <th>1</th>\n",
              "      <td>Arab World</td>\n",
              "      <td>ARB</td>\n",
              "      <td>Age dependency ratio (% of working-age populat...</td>\n",
              "      <td>SP.POP.DPND</td>\n",
              "      <td>1960</td>\n",
              "      <td>8.779760e+01</td>\n",
              "    </tr>\n",
              "    <tr>\n",
              "      <th>2</th>\n",
              "      <td>Arab World</td>\n",
              "      <td>ARB</td>\n",
              "      <td>Age dependency ratio, old (% of working-age po...</td>\n",
              "      <td>SP.POP.DPND.OL</td>\n",
              "      <td>1960</td>\n",
              "      <td>6.634579e+00</td>\n",
              "    </tr>\n",
              "    <tr>\n",
              "      <th>3</th>\n",
              "      <td>Arab World</td>\n",
              "      <td>ARB</td>\n",
              "      <td>Age dependency ratio, young (% of working-age ...</td>\n",
              "      <td>SP.POP.DPND.YG</td>\n",
              "      <td>1960</td>\n",
              "      <td>8.102333e+01</td>\n",
              "    </tr>\n",
              "    <tr>\n",
              "      <th>4</th>\n",
              "      <td>Arab World</td>\n",
              "      <td>ARB</td>\n",
              "      <td>Arms exports (SIPRI trend indicator values)</td>\n",
              "      <td>MS.MIL.XPRT.KD</td>\n",
              "      <td>1960</td>\n",
              "      <td>3.000000e+06</td>\n",
              "    </tr>\n",
              "  </tbody>\n",
              "</table>\n",
              "</div>\n",
              "      <button class=\"colab-df-convert\" onclick=\"convertToInteractive('df-fd5c8b75-f773-4956-aed1-c873315cf689')\"\n",
              "              title=\"Convert this dataframe to an interactive table.\"\n",
              "              style=\"display:none;\">\n",
              "        \n",
              "  <svg xmlns=\"http://www.w3.org/2000/svg\" height=\"24px\"viewBox=\"0 0 24 24\"\n",
              "       width=\"24px\">\n",
              "    <path d=\"M0 0h24v24H0V0z\" fill=\"none\"/>\n",
              "    <path d=\"M18.56 5.44l.94 2.06.94-2.06 2.06-.94-2.06-.94-.94-2.06-.94 2.06-2.06.94zm-11 1L8.5 8.5l.94-2.06 2.06-.94-2.06-.94L8.5 2.5l-.94 2.06-2.06.94zm10 10l.94 2.06.94-2.06 2.06-.94-2.06-.94-.94-2.06-.94 2.06-2.06.94z\"/><path d=\"M17.41 7.96l-1.37-1.37c-.4-.4-.92-.59-1.43-.59-.52 0-1.04.2-1.43.59L10.3 9.45l-7.72 7.72c-.78.78-.78 2.05 0 2.83L4 21.41c.39.39.9.59 1.41.59.51 0 1.02-.2 1.41-.59l7.78-7.78 2.81-2.81c.8-.78.8-2.07 0-2.86zM5.41 20L4 18.59l7.72-7.72 1.47 1.35L5.41 20z\"/>\n",
              "  </svg>\n",
              "      </button>\n",
              "      \n",
              "  <style>\n",
              "    .colab-df-container {\n",
              "      display:flex;\n",
              "      flex-wrap:wrap;\n",
              "      gap: 12px;\n",
              "    }\n",
              "\n",
              "    .colab-df-convert {\n",
              "      background-color: #E8F0FE;\n",
              "      border: none;\n",
              "      border-radius: 50%;\n",
              "      cursor: pointer;\n",
              "      display: none;\n",
              "      fill: #1967D2;\n",
              "      height: 32px;\n",
              "      padding: 0 0 0 0;\n",
              "      width: 32px;\n",
              "    }\n",
              "\n",
              "    .colab-df-convert:hover {\n",
              "      background-color: #E2EBFA;\n",
              "      box-shadow: 0px 1px 2px rgba(60, 64, 67, 0.3), 0px 1px 3px 1px rgba(60, 64, 67, 0.15);\n",
              "      fill: #174EA6;\n",
              "    }\n",
              "\n",
              "    [theme=dark] .colab-df-convert {\n",
              "      background-color: #3B4455;\n",
              "      fill: #D2E3FC;\n",
              "    }\n",
              "\n",
              "    [theme=dark] .colab-df-convert:hover {\n",
              "      background-color: #434B5C;\n",
              "      box-shadow: 0px 1px 3px 1px rgba(0, 0, 0, 0.15);\n",
              "      filter: drop-shadow(0px 1px 2px rgba(0, 0, 0, 0.3));\n",
              "      fill: #FFFFFF;\n",
              "    }\n",
              "  </style>\n",
              "\n",
              "      <script>\n",
              "        const buttonEl =\n",
              "          document.querySelector('#df-fd5c8b75-f773-4956-aed1-c873315cf689 button.colab-df-convert');\n",
              "        buttonEl.style.display =\n",
              "          google.colab.kernel.accessAllowed ? 'block' : 'none';\n",
              "\n",
              "        async function convertToInteractive(key) {\n",
              "          const element = document.querySelector('#df-fd5c8b75-f773-4956-aed1-c873315cf689');\n",
              "          const dataTable =\n",
              "            await google.colab.kernel.invokeFunction('convertToInteractive',\n",
              "                                                     [key], {});\n",
              "          if (!dataTable) return;\n",
              "\n",
              "          const docLinkHtml = 'Like what you see? Visit the ' +\n",
              "            '<a target=\"_blank\" href=https://colab.research.google.com/notebooks/data_table.ipynb>data table notebook</a>'\n",
              "            + ' to learn more about interactive tables.';\n",
              "          element.innerHTML = '';\n",
              "          dataTable['output_type'] = 'display_data';\n",
              "          await google.colab.output.renderOutput(dataTable, element);\n",
              "          const docLink = document.createElement('div');\n",
              "          docLink.innerHTML = docLinkHtml;\n",
              "          element.appendChild(docLink);\n",
              "        }\n",
              "      </script>\n",
              "    </div>\n",
              "  </div>\n",
              "  "
            ]
          },
          "metadata": {},
          "execution_count": 3
        }
      ]
    },
    {
      "cell_type": "code",
      "source": [
        "pd.set_option('display.max_rows', df.shape[0]+1)\n",
        "print(df.IndicatorName.unique())"
      ],
      "metadata": {
        "id": "mUmbiSusHSdE"
      },
      "execution_count": null,
      "outputs": []
    },
    {
      "cell_type": "code",
      "source": [
        "indicadores_pivot = pd.pivot_table(df, values='Value', columns='IndicatorName', index=['CountryName'])\n",
        "pd.set_option('display.max_rows', df.shape[0]+1)\n",
        "print(df)"
      ],
      "metadata": {
        "colab": {
          "base_uri": "https://localhost:8080/"
        },
        "id": "OIJoEMzcB1_w",
        "outputId": "b825ccec-4979-4af3-852d-f0c0d2196ace"
      },
      "execution_count": 6,
      "outputs": [
        {
          "output_type": "stream",
          "name": "stderr",
          "text": [
            "IOPub data rate exceeded.\n",
            "The notebook server will temporarily stop sending output\n",
            "to the client in order to avoid crashing it.\n",
            "To change this limit, set the config variable\n",
            "`--NotebookApp.iopub_data_rate_limit`.\n",
            "\n",
            "Current values:\n",
            "NotebookApp.iopub_data_rate_limit=1000000.0 (bytes/sec)\n",
            "NotebookApp.rate_limit_window=3.0 (secs)\n",
            "\n"
          ]
        }
      ]
    },
    {
      "cell_type": "markdown",
      "source": [
        "##Qual o país dentre China, Estados Unidos, Portugal, Espanha, Brasil, Cuba, Argentina e Vietnã que tem a melhor relação entre 'Access to electricity, rural (% of rural population)' X 'Access to electricity, urban (% of urban population)'"
      ],
      "metadata": {
        "id": "PvRZMDaGJ2lF"
      }
    },
    {
      "cell_type": "code",
      "source": [
        "paises1 = ['China', 'United States', 'Cuba', 'Portugal', 'Spain', 'Vietnam', 'Brazil', 'Argentina']"
      ],
      "metadata": {
        "id": "RHjat3n2KGay"
      },
      "execution_count": null,
      "outputs": []
    },
    {
      "cell_type": "code",
      "source": [
        "eletricidade_rural = df[(df['IndicatorName'] == 'Access to electricity, rural (% of rural population)') & (df['CountryName'].isin(paises1))]"
      ],
      "metadata": {
        "id": "mJZzffFyLBUD"
      },
      "execution_count": null,
      "outputs": []
    },
    {
      "cell_type": "code",
      "source": [
        "eletricidade_urbana = df[(df['IndicatorName'] == 'Access to electricity, urban (% of urban population)')& (df['CountryName'].isin(paises1))]"
      ],
      "metadata": {
        "id": "pmywcLysLPuu"
      },
      "execution_count": null,
      "outputs": []
    },
    {
      "cell_type": "code",
      "source": [
        "eletric_rural_urbana = pd.DataFrame(data={'eletric_rural':eletricidade_rural.groupby(['CountryName']).Value.mean(),'eletric_urbana':eletricidade_urbana.groupby(['CountryName']).Value.mean(),'rural/urbana':eletricidade_rural.groupby(['CountryName']).Value.mean()/eletricidade_urbana.groupby(['CountryName']).Value.mean()})"
      ],
      "metadata": {
        "id": "0GTZIPOcLqDc"
      },
      "execution_count": null,
      "outputs": []
    },
    {
      "cell_type": "code",
      "source": [
        "eletric_rural_urbana.sort_values('rural/urbana',ascending=False).plot.bar()"
      ],
      "metadata": {
        "colab": {
          "base_uri": "https://localhost:8080/",
          "height": 354
        },
        "id": "n_xnA0Y0Ms6R",
        "outputId": "99b804e4-7b13-4080-ca1e-9be7e9849c38"
      },
      "execution_count": null,
      "outputs": [
        {
          "output_type": "execute_result",
          "data": {
            "text/plain": [
              "<matplotlib.axes._subplots.AxesSubplot at 0x7f5af0164150>"
            ]
          },
          "metadata": {},
          "execution_count": 22
        },
        {
          "output_type": "display_data",
          "data": {
            "text/plain": [
              "<Figure size 432x288 with 1 Axes>"
            ],
            "image/png": "[encoded data removed]"
          },
          "metadata": {
            "needs_background": "light"
          }
        }
      ]
    },
    {
      "cell_type": "markdown",
      "source": [
        "##A diferença entre as jovens (Youth literacy rate, population 15-24 years, female (%)) e os jovens (Youth literacy rate, population 15-24 years, male (%)) nos seguintes países: Colombia, Chile, India, Vietnam, United Kingdom, Netherlands, Mexico, Canada"
      ],
      "metadata": {
        "id": "lz5_-qJHOEuc"
      }
    },
    {
      "cell_type": "code",
      "source": [
        "paises2 = ['Colombia', 'Chile', 'India', 'Vietnam', 'United Kingdom', 'Netherlands', 'Mexico', 'Canada']"
      ],
      "metadata": {
        "id": "Wq2YTFj5PfZf"
      },
      "execution_count": null,
      "outputs": []
    },
    {
      "cell_type": "code",
      "source": [
        "alfabe_masc = df[(df['IndicatorName'] == 'Youth literacy rate, population 15-24 years, male (%)') & (df['CountryName'].isin(paises2))]\n",
        "alfabe_fem = df[(df['IndicatorName'] == 'Youth literacy rate, population 15-24 years, female (%)')& (df['CountryName'].isin(paises2))]\n",
        "\n",
        "alfabeta = pd.DataFrame(data={'alfabe_masc':alfabe_masc.groupby(['CountryName']).Value.mean(),'alfabe_fem':alfabe_fem.groupby(['CountryName']).Value.mean(),'masculina/feminina':alfabe_masc.groupby(['CountryName']).Value.mean()/alfabe_fem.groupby(['CountryName']).Value.mean()})"
      ],
      "metadata": {
        "id": "03OU23cfPrVi"
      },
      "execution_count": null,
      "outputs": []
    },
    {
      "cell_type": "code",
      "source": [
        "alfabeta.sort_values('masculina/feminina',ascending=True).plot.bar()"
      ],
      "metadata": {
        "colab": {
          "base_uri": "https://localhost:8080/",
          "height": 333
        },
        "id": "8lXPNWfFUSQo",
        "outputId": "6279124f-5a40-4461-914e-98217742256d"
      },
      "execution_count": null,
      "outputs": [
        {
          "output_type": "execute_result",
          "data": {
            "text/plain": [
              "<matplotlib.axes._subplots.AxesSubplot at 0x7f5aefea1110>"
            ]
          },
          "metadata": {},
          "execution_count": 27
        },
        {
          "output_type": "display_data",
          "data": {
            "text/plain": [
              "<Figure size 432x288 with 1 Axes>"
            ],
            "image/png": "[encoded data removed]"
          },
          "metadata": {
            "needs_background": "light"
          }
        }
      ]
    },
    {
      "cell_type": "markdown",
      "source": [
        "##Comparação entre importação (Commercial service imports (current US\\$)) e exportação de serviços comerciais (Commercial service exports (current US$)), entre Brasil X Argentina, China X Japão, Canada X Estados Unidos, Reino Unido X França."
      ],
      "metadata": {
        "id": "J0lx1OvJUlDk"
      }
    },
    {
      "cell_type": "code",
      "source": [
        "impolatam = df[(df['IndicatorName'] == 'Commercial service imports (current US$)') & (df['CountryName'].isin(['Brazil','Argentina']))]\n",
        "expolatam = df[(df['IndicatorName'] == 'Commercial service exports (current US$)') & (df['CountryName'].isin(['Brazil','Argentina']))]\n",
        "comlatam = pd.DataFrame(data={'impolatam':impolatam.groupby(['CountryName']).Value.mean(),'expolatam':expolatam.groupby(['CountryName']).Value.mean()})\n",
        "\n",
        "impoasia = df[(df['IndicatorName'] == 'Commercial service imports (current US$)') & (df['CountryName'].isin(['China','Japan']))]\n",
        "expoasia = df[(df['IndicatorName'] == 'Commercial service exports (current US$)') & (df['CountryName'].isin(['China','Japan']))]\n",
        "comasia = pd.DataFrame(data={'impoasia':impoasia.groupby(['CountryName']).Value.mean(),'expoasia':expoasia.groupby(['CountryName']).Value.mean()})\n",
        "\n",
        "impoeuro = df[(df['IndicatorName'] == 'Commercial service imports (current US$)') & (df['CountryName'].isin(['United Kingdom','France']))]\n",
        "expoeuro = df[(df['IndicatorName'] == 'Commercial service exports (current US$)') & (df['CountryName'].isin(['United Kingdom','France']))]\n",
        "comeuro = pd.DataFrame(data={'impoeuro':impoeuro.groupby(['CountryName']).Value.mean(),'expoeuro':expoeuro.groupby(['CountryName']).Value.mean()})\n",
        "\n",
        "imponam = df[(df['IndicatorName'] == 'Commercial service imports (current US$)') & (df['CountryName'].isin(['United States','Canada']))]\n",
        "exponam = df[(df['IndicatorName'] == 'Commercial service exports (current US$)') & (df['CountryName'].isin(['United States','Canada']))]\n",
        "comnam = pd.DataFrame(data={'imponam':imponam.groupby(['CountryName']).Value.mean(),'exponam':exponam.groupby(['CountryName']).Value.mean()})\n"
      ],
      "metadata": {
        "id": "IrCGBa4efbAe"
      },
      "execution_count": null,
      "outputs": []
    },
    {
      "cell_type": "code",
      "source": [
        "comlatam.sort_values('impolatam',ascending=False).plot.bar()"
      ],
      "metadata": {
        "colab": {
          "base_uri": "https://localhost:8080/",
          "height": 346
        },
        "id": "jK8ExZVSiIcg",
        "outputId": "60228b94-49a0-4a2a-c74b-1bc2baf4b06c"
      },
      "execution_count": null,
      "outputs": [
        {
          "output_type": "execute_result",
          "data": {
            "text/plain": [
              "<matplotlib.axes._subplots.AxesSubplot at 0x7f5aee7005d0>"
            ]
          },
          "metadata": {},
          "execution_count": 60
        },
        {
          "output_type": "display_data",
          "data": {
            "text/plain": [
              "<Figure size 432x288 with 1 Axes>"
            ],
            "image/png": "[encoded data removed]"
          },
          "metadata": {
            "needs_background": "light"
          }
        }
      ]
    },
    {
      "cell_type": "code",
      "source": [
        "comasia.sort_values('impoasia',ascending=False).plot.bar()"
      ],
      "metadata": {
        "colab": {
          "base_uri": "https://localhost:8080/",
          "height": 326
        },
        "id": "AfQZsd4wmU30",
        "outputId": "b947a31f-5c76-436f-9758-e69243ed47ba"
      },
      "execution_count": null,
      "outputs": [
        {
          "output_type": "execute_result",
          "data": {
            "text/plain": [
              "<matplotlib.axes._subplots.AxesSubplot at 0x7f5aeeb96fd0>"
            ]
          },
          "metadata": {},
          "execution_count": 61
        },
        {
          "output_type": "display_data",
          "data": {
            "text/plain": [
              "<Figure size 432x288 with 1 Axes>"
            ],
            "image/png": "[encoded data removed]"
          },
          "metadata": {
            "needs_background": "light"
          }
        }
      ]
    },
    {
      "cell_type": "code",
      "source": [
        "comeuro.sort_values('impoeuro',ascending=False).plot.bar()"
      ],
      "metadata": {
        "colab": {
          "base_uri": "https://localhost:8080/",
          "height": 378
        },
        "id": "bk4o_VLbmZ6N",
        "outputId": "6ce0af64-840a-4448-a84e-5ce537138144"
      },
      "execution_count": null,
      "outputs": [
        {
          "output_type": "execute_result",
          "data": {
            "text/plain": [
              "<matplotlib.axes._subplots.AxesSubplot at 0x7f5aee3665d0>"
            ]
          },
          "metadata": {},
          "execution_count": 62
        },
        {
          "output_type": "display_data",
          "data": {
            "text/plain": [
              "<Figure size 432x288 with 1 Axes>"
            ],
            "image/png": "[encoded data removed]"
          },
          "metadata": {
            "needs_background": "light"
          }
        }
      ]
    },
    {
      "cell_type": "code",
      "source": [
        "comnam.sort_values('imponam',ascending=False).plot.bar()"
      ],
      "metadata": {
        "colab": {
          "base_uri": "https://localhost:8080/",
          "height": 365
        },
        "id": "YKV8Z1pQmfho",
        "outputId": "8665e7fb-e6fc-4d1a-bf2b-2cd91c86363e"
      },
      "execution_count": null,
      "outputs": [
        {
          "output_type": "execute_result",
          "data": {
            "text/plain": [
              "<matplotlib.axes._subplots.AxesSubplot at 0x7f5aee671050>"
            ]
          },
          "metadata": {},
          "execution_count": 63
        },
        {
          "output_type": "display_data",
          "data": {
            "text/plain": [
              "<Figure size 432x288 with 1 Axes>"
            ],
            "image/png": "[encoded data removed]"
          },
          "metadata": {
            "needs_background": "light"
          }
        }
      ]
    },
    {
      "cell_type": "markdown",
      "source": [
        "##A razão entre o trabalho infantil (Children in employment, total (% of children ages 7-14)) e os empregados assalariados(Wage and salaried workers, total (% of total employed))"
      ],
      "metadata": {
        "id": "SVT11aLrmqvv"
      }
    },
    {
      "cell_type": "code",
      "source": [
        "paises3 = ['Afghanistan', 'Mexico', 'Jamaica', 'Belgium', 'Luxembourg', 'Bangladesh', 'Ecuador', 'Uruguay']"
      ],
      "metadata": {
        "id": "eR_X_EFkoS-U"
      },
      "execution_count": null,
      "outputs": []
    },
    {
      "cell_type": "code",
      "source": [
        "trab_inf = df[(df['IndicatorName'] == 'Children in employment, total (% of children ages 7-14)') & (df['CountryName'].isin(paises3))]\n",
        "salario = df[(df['IndicatorName'] == 'Wage and salaried workers, total (% of total employed)') & (df['CountryName'].isin(paises3))]\n",
        "\n",
        "trab_inf_salario = pd.DataFrame(data={'trab_inf':trab_inf.groupby(['CountryName']).Value.mean(),'salario':salario.groupby(['CountryName']).Value.mean(),'trabalho_infantil/salario':trab_inf.groupby(['CountryName']).Value.mean()/salario.groupby(['CountryName']).Value.mean()})"
      ],
      "metadata": {
        "id": "9ZBAjkEMow1d"
      },
      "execution_count": null,
      "outputs": []
    },
    {
      "cell_type": "code",
      "source": [
        "trab_inf_salario.sort_values('trabalho_infantil/salario',ascending=False).plot.barh()"
      ],
      "metadata": {
        "colab": {
          "base_uri": "https://localhost:8080/",
          "height": 282
        },
        "id": "qzH_r_EFpx5F",
        "outputId": "3794c733-beb0-4d75-f417-440bf07270c8"
      },
      "execution_count": null,
      "outputs": [
        {
          "output_type": "execute_result",
          "data": {
            "text/plain": [
              "<matplotlib.axes._subplots.AxesSubplot at 0x7f5af070ed10>"
            ]
          },
          "metadata": {},
          "execution_count": 70
        },
        {
          "output_type": "display_data",
          "data": {
            "text/plain": [
              "<Figure size 432x288 with 1 Axes>"
            ],
            "image/png": "[encoded data removed]"
          },
          "metadata": {
            "needs_background": "light"
          }
        }
      ]
    },
    {
      "cell_type": "markdown",
      "source": [
        "##A relação entre o PIB per capta (GDP per capita, PPP (current international $)) e a população urbana (Urban population)"
      ],
      "metadata": {
        "id": "MexAH80Bqqra"
      }
    },
    {
      "cell_type": "code",
      "source": [
        "paises4 = ['Afghanistan', 'Honduras', 'Jamaica', 'Ireland', 'Luxembourg', 'Lebanon', 'Paraguay', 'Uruguay']"
      ],
      "metadata": {
        "id": "B7FoNdobqp_P"
      },
      "execution_count": null,
      "outputs": []
    },
    {
      "cell_type": "code",
      "source": [
        "gdp = df[(df['IndicatorName'] == 'GDP per capita, PPP (current international $)') & (df['CountryName'].isin(paises4))]\n",
        "upopulation = df[(df['IndicatorName'] == 'Urban population') & (df['CountryName'].isin(paises4))]\n",
        "\n",
        "gdp_per_urban = pd.DataFrame(data={'gdp':gdp.groupby(['CountryName']).Value.mean(),'upopulation':upopulation.groupby(['CountryName']).Value.mean(),'gdp/urban_population':gdp.groupby(['CountryName']).Value.mean()/salario.groupby(['CountryName']).Value.mean()})"
      ],
      "metadata": {
        "id": "3wjWQ8brsNlr"
      },
      "execution_count": null,
      "outputs": []
    },
    {
      "cell_type": "code",
      "source": [
        "gdp_per_urban.sort_values('gdp/urban_population',ascending=False).plot.bar()"
      ],
      "metadata": {
        "colab": {
          "base_uri": "https://localhost:8080/",
          "height": 359
        },
        "id": "1itdj40Wxe2Q",
        "outputId": "400055aa-8dd3-4051-d27f-8716b6156504"
      },
      "execution_count": null,
      "outputs": [
        {
          "output_type": "execute_result",
          "data": {
            "text/plain": [
              "<matplotlib.axes._subplots.AxesSubplot at 0x7f5ae3bbbf90>"
            ]
          },
          "metadata": {},
          "execution_count": 124
        },
        {
          "output_type": "display_data",
          "data": {
            "text/plain": [
              "<Figure size 432x288 with 1 Axes>"
            ],
            "image/png": "[encoded data removed]"
          },
          "metadata": {
            "needs_background": "light"
          }
        }
      ]
    },
    {
      "cell_type": "markdown",
      "source": [
        "##A razão entre o trabalho precarizado (Vulnerable employment, total (% of total employment)) e o PIB per capta (GDP per capita, PPP (current international $))"
      ],
      "metadata": {
        "id": "J_JCvp2bwHdQ"
      }
    },
    {
      "cell_type": "code",
      "source": [
        "paises5 = ['Afghanistan', 'Honduras', 'Jamaica', 'Ireland', 'Luxembourg', 'Lebanon', 'Paraguay', 'Uruguay']"
      ],
      "metadata": {
        "id": "B2xreHASHN9e"
      },
      "execution_count": null,
      "outputs": []
    },
    {
      "cell_type": "code",
      "source": [
        "trab_prec = df[(df['IndicatorName'] == 'Vulnerable employment, total (% of total employment)') & (df['CountryName'].isin(paises5))]\n",
        "gdp = df[(df['IndicatorName'] == 'GDP per capita, PPP (current international $)') & (df['CountryName'].isin(paises5))]\n",
        "\n",
        "gdp_trab_prec = pd.DataFrame(data={'gdp':gdp.groupby(['CountryName']).Value.mean(),'trab_prec':trab_prec.groupby(['CountryName']).Value.mean(),'gdp/trab_prec':gdp.groupby(['CountryName']).Value.mean()/trab_prec.groupby(['CountryName']).Value.mean()})"
      ],
      "metadata": {
        "id": "e3uOOno0HPZt"
      },
      "execution_count": null,
      "outputs": []
    },
    {
      "cell_type": "code",
      "source": [
        "gdp_trab_prec.sort_values('gdp/trab_prec',ascending=False).plot.bar()"
      ],
      "metadata": {
        "colab": {
          "base_uri": "https://localhost:8080/",
          "height": 348
        },
        "id": "97hGl5hNTLqq",
        "outputId": "c3af323e-16d1-4156-c244-f2b39de4ffa9"
      },
      "execution_count": null,
      "outputs": [
        {
          "output_type": "execute_result",
          "data": {
            "text/plain": [
              "<matplotlib.axes._subplots.AxesSubplot at 0x7fcb14031b50>"
            ]
          },
          "metadata": {},
          "execution_count": 14
        },
        {
          "output_type": "display_data",
          "data": {
            "text/plain": [
              "<Figure size 432x288 with 1 Axes>"
            ],
            "image/png": "[encoded data removed]"
          },
          "metadata": {
            "needs_background": "light"
          }
        }
      ]
    },
    {
      "cell_type": "markdown",
      "source": [
        "##Qual dos seguintes países tem a melhor relação entre investimento nas escolas (Adjusted savings: education expenditure (current US$)) e dos empregados assalariados (Wage and salaried workers, total (% of total employed))"
      ],
      "metadata": {
        "id": "Ygmyb3MqwP5G"
      }
    },
    {
      "cell_type": "code",
      "source": [
        "paises6 = ['Armenia', 'Costa Rica', 'Barbados', 'Monaco', 'Andorra', 'Vietnam', 'Colombia', 'Peru']"
      ],
      "metadata": {
        "id": "tBQwCvFyxtLf"
      },
      "execution_count": 7,
      "outputs": []
    },
    {
      "cell_type": "code",
      "source": [
        "edu_exp = df[(df['IndicatorName'] == 'Adjusted savings: education expenditure (current US$)') & (df['CountryName'].isin(paises6))]\n",
        "salario = df[(df['IndicatorName'] == 'Wage and salaried workers, total (% of total employed)') & (df['CountryName'].isin(paises6))]\n",
        "\n",
        "edu_exp_salario = pd.DataFrame(data={'edu_exp':edu_exp.groupby(['CountryName']).Value.mean(),'salario':salario.groupby(['CountryName']).Value.mean(),'gasto_educacional/salario':edu_exp.groupby(['CountryName']).Value.mean()/salario.groupby(['CountryName']).Value.mean()})"
      ],
      "metadata": {
        "id": "rPxTjcN2hXbx"
      },
      "execution_count": 8,
      "outputs": []
    },
    {
      "cell_type": "code",
      "source": [
        "edu_exp_salario.sort_values('gasto_educacional/salario',ascending=False).plot.barh()"
      ],
      "metadata": {
        "colab": {
          "base_uri": "https://localhost:8080/",
          "height": 295
        },
        "id": "NJC7V7ZQzGvw",
        "outputId": "9778a24b-69e4-492c-bb32-4c5beebee0c7"
      },
      "execution_count": 10,
      "outputs": [
        {
          "output_type": "execute_result",
          "data": {
            "text/plain": [
              "<matplotlib.axes._subplots.AxesSubplot at 0x7fd1616cc510>"
            ]
          },
          "metadata": {},
          "execution_count": 10
        },
        {
          "output_type": "display_data",
          "data": {
            "text/plain": [
              "<Figure size 432x288 with 1 Axes>"
            ],
            "image/png": "[encoded data removed]"
          },
          "metadata": {
            "needs_background": "light"
          }
        }
      ]
    },
    {
      "cell_type": "markdown",
      "source": [
        "##Há relação entre a acessibilidade de eletricidade em áreas rurais(Access to electricity, rural (% of rural population)) e a alfabetização feminina(Youth literacy rate, population 15-24 years, female (%))?"
      ],
      "metadata": {
        "id": "DFGXrBS7ztRJ"
      }
    },
    {
      "cell_type": "code",
      "source": [
        "paises7 = ['Armenia', 'Costa Rica', 'Honduras', 'Portugal', 'Ireland', 'Turkey', 'Chile', 'Ecuador']"
      ],
      "metadata": {
        "id": "J-D3fH8t0JM9"
      },
      "execution_count": 16,
      "outputs": []
    },
    {
      "cell_type": "code",
      "source": [
        "eletricidade_rural = df[(df['IndicatorName'] == 'Access to electricity, rural (% of rural population)') & (df['CountryName'].isin(paises7))]\n",
        "alfabe_fem = df[(df['IndicatorName'] == 'Youth literacy rate, population 15-24 years, female (%)')& (df['CountryName'].isin(paises7))]\n",
        "\n",
        "alfa_eletro = pd.DataFrame(data={'eletricidade_rural':eletricidade_rural.groupby(['CountryName']).Value.mean(),'alfabe_fem':alfabe_fem.groupby(['CountryName']).Value.mean(),'eletro_rural/alfabe_feminina':eletricidade_rural.groupby(['CountryName']).Value.mean()/alfabe_fem.groupby(['CountryName']).Value.mean()})"
      ],
      "metadata": {
        "id": "ejvsj9bvzsZD"
      },
      "execution_count": 17,
      "outputs": []
    },
    {
      "cell_type": "code",
      "source": [
        "alfa_eletro.sort_values('eletro_rural/alfabe_feminina',ascending=False).plot.barh()"
      ],
      "metadata": {
        "colab": {
          "base_uri": "https://localhost:8080/",
          "height": 282
        },
        "id": "6WYQr8OY0PjH",
        "outputId": "9f65fa33-f3fa-452a-9b2d-6382c18a5090"
      },
      "execution_count": 19,
      "outputs": [
        {
          "output_type": "execute_result",
          "data": {
            "text/plain": [
              "<matplotlib.axes._subplots.AxesSubplot at 0x7fd150ef3810>"
            ]
          },
          "metadata": {},
          "execution_count": 19
        },
        {
          "output_type": "display_data",
          "data": {
            "text/plain": [
              "<Figure size 432x288 with 1 Axes>"
            ],
            "image/png": "[encoded data removed]"
          },
          "metadata": {
            "needs_background": "light"
          }
        }
      ]
    },
    {
      "cell_type": "markdown",
      "source": [
        "##A razão entre o trabalho infantil (Children in employment, total (% of children ages 7-14)) e o PIB per Capta (GDP per capita, PPP (current international $))"
      ],
      "metadata": {
        "id": "2D1N1Tat0RXu"
      }
    },
    {
      "cell_type": "code",
      "source": [
        "paises8 = ['Bangladesh', 'Costa Rica', 'Mexico', 'Spain', 'United Kingdom', 'India', 'Colombia', 'Paraguay']"
      ],
      "metadata": {
        "id": "VO6qZBE40lV7"
      },
      "execution_count": 27,
      "outputs": []
    },
    {
      "cell_type": "code",
      "source": [
        "trab_inf = df[(df['IndicatorName'] == 'Children in employment, total (% of children ages 7-14)') & (df['CountryName'].isin(paises8))]\n",
        "gdp = df[(df['IndicatorName'] == 'GDP per capita, PPP (current international $)') & (df['CountryName'].isin(paises8))]\n",
        "\n",
        "trab_inf_gdp = pd.DataFrame(data={'trabalho_inf':trab_inf.groupby(['CountryName']).Value.mean(),'pib_per_capta':gdp.groupby(['CountryName']).Value.mean(),'trabalho_inf/pib':trab_inf.groupby(['CountryName']).Value.mean()/gdp.groupby(['CountryName']).Value.mean()})"
      ],
      "metadata": {
        "id": "JAmUv0Ga3RY4"
      },
      "execution_count": 28,
      "outputs": []
    },
    {
      "cell_type": "code",
      "source": [
        "trab_inf_gdp.sort_values('trabalho_inf/pib',ascending=False).plot.bar()"
      ],
      "metadata": {
        "colab": {
          "base_uri": "https://localhost:8080/",
          "height": 367
        },
        "id": "7Noksj704ETf",
        "outputId": "de19cacf-389c-4085-a331-0759684e79f8"
      },
      "execution_count": 29,
      "outputs": [
        {
          "output_type": "execute_result",
          "data": {
            "text/plain": [
              "<matplotlib.axes._subplots.AxesSubplot at 0x7fd111c66c50>"
            ]
          },
          "metadata": {},
          "execution_count": 29
        },
        {
          "output_type": "display_data",
          "data": {
            "text/plain": [
              "<Figure size 432x288 with 1 Axes>"
            ],
            "image/png": "[encoded data removed]"
          },
          "metadata": {
            "needs_background": "light"
          }
        }
      ]
    },
    {
      "cell_type": "markdown",
      "source": [
        "##A relação entre a importação de serviços comerciais (Commercial service imports (current US$)) e a população urbana (Urban Population)"
      ],
      "metadata": {
        "id": "OVk1N5MY0p1s"
      }
    },
    {
      "cell_type": "code",
      "source": [
        "paises9 = ['Japan', 'Mexico', 'United States', 'France', 'United Kingdom', 'China', 'Brasil', 'Chile']"
      ],
      "metadata": {
        "id": "9jM4shrg1EWs"
      },
      "execution_count": 35,
      "outputs": []
    },
    {
      "cell_type": "code",
      "source": [
        "upopulation = df[(df['IndicatorName'] == 'Urban population') & (df['CountryName'].isin(paises9))]\n",
        "imports = df[(df['IndicatorName'] == 'Commercial service imports (current US$)') & (df['CountryName'].isin(paises9))]\n",
        "\n",
        "import_per_population = pd.DataFrame(data={'import':imports.groupby(['CountryName']).Value.mean(),'urban_population':upopulation.groupby(['CountryName']).Value.mean(),'população/importação':upopulation.groupby(['CountryName']).Value.mean()/imports.groupby(['CountryName']).Value.mean()})"
      ],
      "metadata": {
        "id": "Ea1d3XNX5FwP"
      },
      "execution_count": 36,
      "outputs": []
    },
    {
      "cell_type": "code",
      "source": [
        "import_per_population.sort_values('população/importação',ascending=False).plot.bar()"
      ],
      "metadata": {
        "colab": {
          "base_uri": "https://localhost:8080/",
          "height": 378
        },
        "id": "2hST-z7M6gvV",
        "outputId": "f6c8d8f3-e0b3-43d7-cbdf-fa5b9fbf59a4"
      },
      "execution_count": 37,
      "outputs": [
        {
          "output_type": "execute_result",
          "data": {
            "text/plain": [
              "<matplotlib.axes._subplots.AxesSubplot at 0x7fd153fbe290>"
            ]
          },
          "metadata": {},
          "execution_count": 37
        },
        {
          "output_type": "display_data",
          "data": {
            "text/plain": [
              "<Figure size 432x288 with 1 Axes>"
            ],
            "image/png": "[encoded data removed]"
          },
          "metadata": {
            "needs_background": "light"
          }
        }
      ]
    }
  ]
}